{
 "cells": [
  {
   "cell_type": "markdown",
   "id": "6d08e51a",
   "metadata": {},
   "source": [
    "This demos getting the RDF content for the domain knowledge graph and doing some querying on it using RDFLib in Python"
   ]
  },
  {
   "cell_type": "code",
   "execution_count": null,
   "id": "6170da82",
   "metadata": {},
   "outputs": [],
   "source": [
    "!python -m pip install rdflib pystow"
   ]
  },
  {
   "cell_type": "code",
   "execution_count": 11,
   "id": "b10d2182",
   "metadata": {},
   "outputs": [],
   "source": [
    "import rdflib\n",
    "import pystow\n",
    "from tabulate import tabulate\n",
    "import pandas as pd"
   ]
  },
  {
   "cell_type": "code",
   "execution_count": 8,
   "id": "7dd71dbe",
   "metadata": {},
   "outputs": [],
   "source": [
    "domain = \"epi\"\n",
    "version = \"2023-02-13\"\n",
    "url = f\"https://askem-mira.s3.amazonaws.com/dkg/{domain}/build/{version}/dkg.ttl.gz\""
   ]
  },
  {
   "cell_type": "code",
   "execution_count": 9,
   "id": "507ed1da",
   "metadata": {},
   "outputs": [
    {
     "data": {
      "application/vnd.jupyter.widget-view+json": {
       "model_id": "",
       "version_major": 2,
       "version_minor": 0
      },
      "text/plain": [
       "Downloading dkg.ttl.gz: 0.00B [00:00, ?B/s]"
      ]
     },
     "metadata": {},
     "output_type": "display_data"
    }
   ],
   "source": [
    "graph = rdflib.Graph()\n",
    "\n",
    "with pystow.ensure_open_gz(\"mira\", domain, version, url=url) as file:\n",
    "    graph.parse(file)"
   ]
  },
  {
   "cell_type": "markdown",
   "id": "e4b0ae1e",
   "metadata": {},
   "source": [
    "Use SPARQL to get all distinct predicates"
   ]
  },
  {
   "cell_type": "code",
   "execution_count": 13,
   "id": "4955db91",
   "metadata": {},
   "outputs": [
    {
     "data": {
      "text/html": [
       "<div>\n",
       "<style scoped>\n",
       "    .dataframe tbody tr th:only-of-type {\n",
       "        vertical-align: middle;\n",
       "    }\n",
       "\n",
       "    .dataframe tbody tr th {\n",
       "        vertical-align: top;\n",
       "    }\n",
       "\n",
       "    .dataframe thead th {\n",
       "        text-align: right;\n",
       "    }\n",
       "</style>\n",
       "<table border=\"1\" class=\"dataframe\">\n",
       "  <thead>\n",
       "    <tr style=\"text-align: right;\">\n",
       "      <th></th>\n",
       "      <th>0</th>\n",
       "    </tr>\n",
       "  </thead>\n",
       "  <tbody>\n",
       "    <tr>\n",
       "      <th>0</th>\n",
       "      <td>http://www.w3.org/2000/01/rdf-schema#label</td>\n",
       "    </tr>\n",
       "    <tr>\n",
       "      <th>1</th>\n",
       "      <td>http://purl.org/dc/terms/description</td>\n",
       "    </tr>\n",
       "    <tr>\n",
       "      <th>2</th>\n",
       "      <td>https://bioregistry.io/oboinowl:hasExactSynonym</td>\n",
       "    </tr>\n",
       "    <tr>\n",
       "      <th>3</th>\n",
       "      <td>http://www.w3.org/2000/01/rdf-schema#isDefinedBy</td>\n",
       "    </tr>\n",
       "    <tr>\n",
       "      <th>4</th>\n",
       "      <td>http://purl.org/dc/terms/hasVersion</td>\n",
       "    </tr>\n",
       "    <tr>\n",
       "      <th>...</th>\n",
       "      <td>...</td>\n",
       "    </tr>\n",
       "    <tr>\n",
       "      <th>369</th>\n",
       "      <td>https://bioregistry.io/vo:0000818</td>\n",
       "    </tr>\n",
       "    <tr>\n",
       "      <th>370</th>\n",
       "      <td>http://purl.obolibrary.org/obo/uberon/core#tru...</td>\n",
       "    </tr>\n",
       "    <tr>\n",
       "      <th>371</th>\n",
       "      <td>https://bioregistry.io/ndfrt:has_PK</td>\n",
       "    </tr>\n",
       "    <tr>\n",
       "      <th>372</th>\n",
       "      <td>https://bioregistry.io/ro:0002159</td>\n",
       "    </tr>\n",
       "    <tr>\n",
       "      <th>373</th>\n",
       "      <td>https://bioregistry.io/vo:0000537</td>\n",
       "    </tr>\n",
       "  </tbody>\n",
       "</table>\n",
       "<p>374 rows × 1 columns</p>\n",
       "</div>"
      ],
      "text/plain": [
       "                                                     0\n",
       "0           http://www.w3.org/2000/01/rdf-schema#label\n",
       "1                 http://purl.org/dc/terms/description\n",
       "2      https://bioregistry.io/oboinowl:hasExactSynonym\n",
       "3     http://www.w3.org/2000/01/rdf-schema#isDefinedBy\n",
       "4                  http://purl.org/dc/terms/hasVersion\n",
       "..                                                 ...\n",
       "369                  https://bioregistry.io/vo:0000818\n",
       "370  http://purl.obolibrary.org/obo/uberon/core#tru...\n",
       "371                https://bioregistry.io/ndfrt:has_PK\n",
       "372                  https://bioregistry.io/ro:0002159\n",
       "373                  https://bioregistry.io/vo:0000537\n",
       "\n",
       "[374 rows x 1 columns]"
      ]
     },
     "execution_count": 13,
     "metadata": {},
     "output_type": "execute_result"
    }
   ],
   "source": [
    "results = graph.query(\"\"\"\\\n",
    "    SELECT DISTINCT ?p\n",
    "    WHERE {\n",
    "        ?s ?p ?o\n",
    "    }\n",
    "\"\"\")\n",
    "\n",
    "predicates_df = pd.DataFrame(results, columns=[\"predicate\"])\n",
    "predicates_df"
   ]
  },
  {
   "cell_type": "markdown",
   "id": "cd2614a5",
   "metadata": {},
   "source": [
    "Use SPARQL to get all parent-child relationships (using `rdfs:subClassOf` as predicate whose subject is the child and whose object is the parent)"
   ]
  },
  {
   "cell_type": "code",
   "execution_count": 14,
   "id": "017e1ff1",
   "metadata": {},
   "outputs": [
    {
     "data": {
      "text/html": [
       "<div>\n",
       "<style scoped>\n",
       "    .dataframe tbody tr th:only-of-type {\n",
       "        vertical-align: middle;\n",
       "    }\n",
       "\n",
       "    .dataframe tbody tr th {\n",
       "        vertical-align: top;\n",
       "    }\n",
       "\n",
       "    .dataframe thead th {\n",
       "        text-align: right;\n",
       "    }\n",
       "</style>\n",
       "<table border=\"1\" class=\"dataframe\">\n",
       "  <thead>\n",
       "    <tr style=\"text-align: right;\">\n",
       "      <th></th>\n",
       "      <th>child</th>\n",
       "      <th>child_label</th>\n",
       "      <th>parent</th>\n",
       "      <th>parent_label</th>\n",
       "    </tr>\n",
       "  </thead>\n",
       "  <tbody>\n",
       "    <tr>\n",
       "      <th>0</th>\n",
       "      <td>https://bioregistry.io/oae:0008001</td>\n",
       "      <td>dysstasia AE</td>\n",
       "      <td>https://bioregistry.io/oae:0002049</td>\n",
       "      <td>None</td>\n",
       "    </tr>\n",
       "    <tr>\n",
       "      <th>1</th>\n",
       "      <td>https://bioregistry.io/oae:0004687</td>\n",
       "      <td>neurotoxicity AE</td>\n",
       "      <td>https://bioregistry.io/oae:0001215</td>\n",
       "      <td>None</td>\n",
       "    </tr>\n",
       "    <tr>\n",
       "      <th>2</th>\n",
       "      <td>https://bioregistry.io/oae:0004923</td>\n",
       "      <td>cerebral hemorrhage AE</td>\n",
       "      <td>https://bioregistry.io/oae:0000801</td>\n",
       "      <td>None</td>\n",
       "    </tr>\n",
       "    <tr>\n",
       "      <th>3</th>\n",
       "      <td>https://bioregistry.io/oae:0004931</td>\n",
       "      <td>cerebral venous sinus thrombosis AE</td>\n",
       "      <td>https://bioregistry.io/oae:0004534</td>\n",
       "      <td>None</td>\n",
       "    </tr>\n",
       "    <tr>\n",
       "      <th>4</th>\n",
       "      <td>https://bioregistry.io/oae:0004935</td>\n",
       "      <td>cerebrovascular accident AE</td>\n",
       "      <td>https://bioregistry.io/oae:0000534</td>\n",
       "      <td>None</td>\n",
       "    </tr>\n",
       "  </tbody>\n",
       "</table>\n",
       "</div>"
      ],
      "text/plain": [
       "                                child                          child_label  \\\n",
       "0  https://bioregistry.io/oae:0008001                         dysstasia AE   \n",
       "1  https://bioregistry.io/oae:0004687                     neurotoxicity AE   \n",
       "2  https://bioregistry.io/oae:0004923               cerebral hemorrhage AE   \n",
       "3  https://bioregistry.io/oae:0004931  cerebral venous sinus thrombosis AE   \n",
       "4  https://bioregistry.io/oae:0004935          cerebrovascular accident AE   \n",
       "\n",
       "                               parent parent_label  \n",
       "0  https://bioregistry.io/oae:0002049         None  \n",
       "1  https://bioregistry.io/oae:0001215         None  \n",
       "2  https://bioregistry.io/oae:0000801         None  \n",
       "3  https://bioregistry.io/oae:0004534         None  \n",
       "4  https://bioregistry.io/oae:0000534         None  "
      ]
     },
     "execution_count": 14,
     "metadata": {},
     "output_type": "execute_result"
    }
   ],
   "source": [
    "results = graph.query(\"\"\"\\\n",
    "    SELECT ?child ?childLabel ?parent ?parentLabel\n",
    "    WHERE {\n",
    "        ?child rdfs:subClassOf ?parent .\n",
    "        ?child rdfs:label ?childLabel .\n",
    "        ?parent rdfs:label ?parentLabel .\n",
    "    }\n",
    "    LIMIT 5\n",
    "\"\"\")\n",
    "\n",
    "parents_df = pd.DataFrame(results, columns=[\"child\", \"child_label\", \"parent\", \"parent_label\"])\n",
    "parents_df"
   ]
  },
  {
   "cell_type": "markdown",
   "id": "05babb17",
   "metadata": {},
   "source": [
    "Use SPARQL to use multiple predicates (both for child->parent and part->whole)"
   ]
  },
  {
   "cell_type": "code",
   "execution_count": 20,
   "id": "f619de6e",
   "metadata": {},
   "outputs": [
    {
     "data": {
      "text/html": [
       "<div>\n",
       "<style scoped>\n",
       "    .dataframe tbody tr th:only-of-type {\n",
       "        vertical-align: middle;\n",
       "    }\n",
       "\n",
       "    .dataframe tbody tr th {\n",
       "        vertical-align: top;\n",
       "    }\n",
       "\n",
       "    .dataframe thead th {\n",
       "        text-align: right;\n",
       "    }\n",
       "</style>\n",
       "<table border=\"1\" class=\"dataframe\">\n",
       "  <thead>\n",
       "    <tr style=\"text-align: right;\">\n",
       "      <th></th>\n",
       "      <th>child</th>\n",
       "      <th>child_label</th>\n",
       "      <th>parent</th>\n",
       "      <th>parent_label</th>\n",
       "    </tr>\n",
       "  </thead>\n",
       "  <tbody>\n",
       "    <tr>\n",
       "      <th>0</th>\n",
       "      <td>http://www.w3.org/2000/01/rdf-schema#Container</td>\n",
       "      <td>Container</td>\n",
       "      <td>http://www.w3.org/2000/01/rdf-schema#Resource</td>\n",
       "      <td>Resource</td>\n",
       "    </tr>\n",
       "    <tr>\n",
       "      <th>1</th>\n",
       "      <td>http://www.w3.org/2000/01/rdf-schema#Literal</td>\n",
       "      <td>Literal</td>\n",
       "      <td>http://www.w3.org/2000/01/rdf-schema#Resource</td>\n",
       "      <td>Resource</td>\n",
       "    </tr>\n",
       "    <tr>\n",
       "      <th>2</th>\n",
       "      <td>http://www.w3.org/2002/07/owl#AllDifferent</td>\n",
       "      <td>AllDifferent</td>\n",
       "      <td>http://www.w3.org/2000/01/rdf-schema#Resource</td>\n",
       "      <td>Resource</td>\n",
       "    </tr>\n",
       "    <tr>\n",
       "      <th>3</th>\n",
       "      <td>http://www.w3.org/2002/07/owl#AllDisjointClasses</td>\n",
       "      <td>AllDisjointClasses</td>\n",
       "      <td>http://www.w3.org/2000/01/rdf-schema#Resource</td>\n",
       "      <td>Resource</td>\n",
       "    </tr>\n",
       "    <tr>\n",
       "      <th>4</th>\n",
       "      <td>http://www.w3.org/2002/07/owl#AllDisjointPrope...</td>\n",
       "      <td>AllDisjointProperties</td>\n",
       "      <td>http://www.w3.org/2000/01/rdf-schema#Resource</td>\n",
       "      <td>Resource</td>\n",
       "    </tr>\n",
       "  </tbody>\n",
       "</table>\n",
       "</div>"
      ],
      "text/plain": [
       "                                               child            child_label  \\\n",
       "0     http://www.w3.org/2000/01/rdf-schema#Container              Container   \n",
       "1       http://www.w3.org/2000/01/rdf-schema#Literal                Literal   \n",
       "2         http://www.w3.org/2002/07/owl#AllDifferent           AllDifferent   \n",
       "3   http://www.w3.org/2002/07/owl#AllDisjointClasses     AllDisjointClasses   \n",
       "4  http://www.w3.org/2002/07/owl#AllDisjointPrope...  AllDisjointProperties   \n",
       "\n",
       "                                          parent parent_label  \n",
       "0  http://www.w3.org/2000/01/rdf-schema#Resource     Resource  \n",
       "1  http://www.w3.org/2000/01/rdf-schema#Resource     Resource  \n",
       "2  http://www.w3.org/2000/01/rdf-schema#Resource     Resource  \n",
       "3  http://www.w3.org/2000/01/rdf-schema#Resource     Resource  \n",
       "4  http://www.w3.org/2000/01/rdf-schema#Resource     Resource  "
      ]
     },
     "execution_count": 20,
     "metadata": {},
     "output_type": "execute_result"
    }
   ],
   "source": [
    "results = graph.query(\"\"\"\\\n",
    "    PREFIX bfo: <https://bioregistry.io/bfo:>\n",
    "\n",
    "    SELECT ?child ?childLabel ?parent ?parentLabel\n",
    "    WHERE {\n",
    "        ?child rdfs:subClassOf|bfo:0000050 ?parent .\n",
    "        ?child rdfs:label ?childLabel .\n",
    "        ?parent rdfs:label ?parentLabel .\n",
    "    }\n",
    "    LIMIT 5\n",
    "\"\"\")\n",
    "\n",
    "parents_df = pd.DataFrame(results, columns=[\"child\", \"child_label\", \"parent\", \"parent_label\"])\n",
    "parents_df"
   ]
  }
 ],
 "metadata": {
  "kernelspec": {
   "display_name": "Python 3 (ipykernel)",
   "language": "python",
   "name": "python3"
  },
  "language_info": {
   "codemirror_mode": {
    "name": "ipython",
    "version": 3
   },
   "file_extension": ".py",
   "mimetype": "text/x-python",
   "name": "python",
   "nbconvert_exporter": "python",
   "pygments_lexer": "ipython3",
   "version": "3.10.10"
  }
 },
 "nbformat": 4,
 "nbformat_minor": 5
}
